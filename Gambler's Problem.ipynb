{
 "cells": [
  {
   "cell_type": "markdown",
   "metadata": {},
   "source": [
    "# Value iteration DP - Gambler's Problem"
   ]
  },
  {
   "cell_type": "markdown",
   "metadata": {},
   "source": [
    "This is exercice 4.9 from the book \"Reinforcement Learning: an itroduction. From Sutton and Barto. The problem is extracted from the book as following:"
   ]
  },
  {
   "cell_type": "markdown",
   "metadata": {},
   "source": [
    "___\n",
    "A gambler has the opportunity to make bets on the outcomes of a sequence of coin flips. If the coin comes up heads, he wins as many dollars as he has staked on that flip; if it is tails, he loses his stake. The game ends when the gambler wins by reaching his goal of $100, or loses by running out of money. On each flip, the gambler must decide what portion of his capital to stake, in integer numbers of dollars. This problem can be formulated as an undiscounted, episodic, finite MDP. The state is the gambler’s capital, s ∈ {1, 2, . . . , 99} and the actions are stakes, a ∈ {0, 1, . . . , min(s, 100 − s)}. The reward is zero on all transitions except those on which the gambler reaches his goal, when it is +1. The state-value function then gives the probability of winning from each state. A policy is a mapping from levels of capital to stakes. The optimal policy maximizes the probability of reaching the goal. Let ph denote the probability of the coin coming up heads."
   ]
  },
  {
   "cell_type": "markdown",
   "metadata": {},
   "source": [
    "Implement value iteration for the gambler’s problem and solve it for ph = 0.25 and ph = 0.55. Show your results graphically, as in Figure 4.3. Are your results stable as θ → 0?"
   ]
  },
  {
   "cell_type": "markdown",
   "metadata": {},
   "source": [
    "___"
   ]
  },
  {
   "cell_type": "markdown",
   "metadata": {},
   "source": [
    "This is a case of Finite Markov Decision Problem (Finite MDP). Finite meaning that we know all the possible set of states S, actions A an rewards R. A Markov Decision Process can be thought as a decision making process in which actions not only influence the immediate reward (as in a \"bandit\" problem) but also affect subsequent states and rewards. Moreover, actions may have different results in different states and even in the same state. \n",
    "\n",
    "MDPs are not solved by optimizing the immediate reward of each action, but the long term reward of following a specific set of actions, the policy."
   ]
  },
  {
   "cell_type": "markdown",
   "metadata": {},
   "source": [
    "Finite Markov Decision Problems can be characterized by the following equation:"
   ]
  },
  {
   "cell_type": "markdown",
   "metadata": {},
   "source": [
    "$$\\sum_{s'\\in S}\\sum_{r\\in R} p(s', r \\mid s,a) = 1,  \\forall  s \\in S, a \\in A$$ "
   ]
  },
  {
   "cell_type": "markdown",
   "metadata": {},
   "source": [
    "As stated above, a MDP tries to maximize the long term rewards, also called the return. This can be stated as G_T:"
   ]
  },
  {
   "cell_type": "markdown",
   "metadata": {},
   "source": [
    "$$ G_T = \\sum_{k=0}^{\\infty} \\gamma^{k}*R_{t+k+1}$$"
   ]
  },
  {
   "cell_type": "markdown",
   "metadata": {},
   "source": [
    "Where γ (0>γ>1 )is called the discount factor and is used to give more weight to recent rewards rather than long past rewards. Also, it helps to ensure convergence when time is infinite."
   ]
  },
  {
   "cell_type": "markdown",
   "metadata": {},
   "source": [
    "With the Finite MDP formula and the return we can deduce the Bellman Equation:"
   ]
  },
  {
   "cell_type": "markdown",
   "metadata": {},
   "source": [
    "$$ V_{\\pi}(s) = E_{\\pi}[G_t \\mid S_t = s] $$"
   ]
  },
  {
   "cell_type": "markdown",
   "metadata": {},
   "source": [
    "$$ V_{\\pi}(s) = E_{\\pi}[R_{t+1} + \\gamma G_{t+1}\\mid S_t = s] $$"
   ]
  },
  {
   "cell_type": "markdown",
   "metadata": {},
   "source": [
    "$$ V_{\\pi}(s) = \\sum_{a}\\pi(a\\mid s)\\sum_{s',r} p(s', r \\mid s,a)[r + \\gamma E_{\\pi}[G_{t+1}\\mid S_{t+1} = s']] $$"
   ]
  },
  {
   "cell_type": "markdown",
   "metadata": {},
   "source": [
    "We can notice the recurrence of the formula and write it as:"
   ]
  },
  {
   "cell_type": "markdown",
   "metadata": {},
   "source": [
    "$$ V_{\\pi}(s) = \\sum_{a}\\pi(a\\mid s)\\sum_{s',r} p(s', r \\mid s,a)[r +\\gamma V_{\\pi}(s')], \\forall s \\in S $$"
   ]
  },
  {
   "cell_type": "markdown",
   "metadata": {},
   "source": [
    "We call V the set of values of the states. Each state has a value considereing how much long term reward we can expect by just reaching that state and following the polici π thereafter."
   ]
  },
  {
   "cell_type": "markdown",
   "metadata": {},
   "source": [
    "We can turn the Bellman Equation into an iteration algorithm that tries to find the optimal policy and state-value set by using the Bellman equation into an update rule using the action that maximes the reward at each step. If we do this for all the states for long enought, convergence is assured."
   ]
  },
  {
   "cell_type": "markdown",
   "metadata": {},
   "source": [
    "$$ v_{k+1}(s) = \\max_a E[R_{t+1}+ \\gamma v_k(S_{t+1})\\mid S_t = s, A_t = a]$$"
   ]
  },
  {
   "cell_type": "markdown",
   "metadata": {},
   "source": [
    "$$v_{k+1}(s) = \\max_a\\sum_{s', r} p(s',r \\mid s,a)[r +\\gamma V_{k}(s')] \\forall s \\in S$$"
   ]
  },
  {
   "cell_type": "markdown",
   "metadata": {},
   "source": [
    "Roughly speaking, at each iteration we set the value of each state to be the weighted probabilities of each possible next state-reward combination times the reward and the discounted next state (taken from the previously stored iteration). We do this process until the states change little bit.\n",
    "This process is called **Dynamic Programming by Value Iteration**. "
   ]
  },
  {
   "cell_type": "markdown",
   "metadata": {},
   "source": [
    "Dynamic programming refers to a set of algorithms to solve finite MDPs for which we have a complete model by means of estimating the value funciton of each state using iterative process like the one described above."
   ]
  },
  {
   "cell_type": "markdown",
   "metadata": {},
   "source": [
    "___"
   ]
  },
  {
   "cell_type": "markdown",
   "metadata": {},
   "source": [
    "Below follows a simple implentation of this algorithm for the Gambler's Problem."
   ]
  },
  {
   "cell_type": "code",
   "execution_count": 1,
   "metadata": {},
   "outputs": [],
   "source": [
    "import numpy as np\n",
    "import matplotlib.pyplot as plt"
   ]
  },
  {
   "cell_type": "code",
   "execution_count": 2,
   "metadata": {},
   "outputs": [],
   "source": [
    "def initialize(states = 100, max_reward = 1):\n",
    "    \"\"\"\n",
    "    Creates the arbitrary set of initial states, last one is put to \n",
    "    the winning reward as it is the dummy state of already won\n",
    "    \"\"\"\n",
    "    V = np.zeros(states+1)\n",
    "    V[-1] = max_reward\n",
    "    return V"
   ]
  },
  {
   "cell_type": "code",
   "execution_count": 3,
   "metadata": {},
   "outputs": [],
   "source": [
    "def compute_Bellman(V, s, pheads, gamma):\n",
    "    \"\"\"\n",
    "    Computes the Bellman iteration rule with the current set of states V, \n",
    "    for the specied state s. It uses the probabilities of winning as pheads and\n",
    "    gamma as the discounting factor.\n",
    "    \"\"\"\n",
    "    tempV = []\n",
    "    for a in range(1,min(100-s, s)+1):\n",
    "        tempV.append(pheads*(0 + gamma*V[s+a]) + (1-pheads)*(0+gamma*V[s-a]))\n",
    "    return tempV"
   ]
  },
  {
   "cell_type": "code",
   "execution_count": 4,
   "metadata": {},
   "outputs": [],
   "source": [
    "def value_iteration(V, pheads, gamma = 1, sigma = 0.1):\n",
    "    \"\"\"\n",
    "    This function computes the value iteration algorithm for a set of \n",
    "    states V, using the winning probability of pheads, the discouting \n",
    "    factor gamma. Sigma is a threshold that ensures convergence as we keep \n",
    "    iterating until the maximum difference between all values and its \n",
    "    corresponding newly predicted is less than sigma. \n",
    "    \"\"\"\n",
    "    while True:\n",
    "        delta = 0\n",
    "        for s in range(1,len(V)-1):\n",
    "            v = V[s]\n",
    "            expected_value = compute_Bellman(V, s, pheads, gamma)\n",
    "            V[s] = max(expected_value)\n",
    "            delta = max(delta, abs(v - V[s]))\n",
    "        if delta > sigma:\n",
    "            continue\n",
    "        else:\n",
    "            return V"
   ]
  },
  {
   "cell_type": "code",
   "execution_count": 5,
   "metadata": {},
   "outputs": [],
   "source": [
    "def retrieve_policy(V, pheads, gamma):\n",
    "    \"\"\"\n",
    "    This function takes the set of states V, the probability of winning \n",
    "    pheads and the discounting factor gamma and retrieves the optimal policy\n",
    "    that the set of states describe by using a greedy approach. This works \n",
    "    because the action that maximies the next value at each step builds the \n",
    "    optimal policy if the state sets is optimal.\n",
    "    \"\"\"\n",
    "    pi = np.zeros(100)\n",
    "    for s in range(1,len(pi)):\n",
    "        expected_value = compute_Bellman(V, s, pheads, gamma)\n",
    "        pi[s] = np.argmax(expected_value) + 1\n",
    "    return pi"
   ]
  },
  {
   "cell_type": "code",
   "execution_count": 6,
   "metadata": {},
   "outputs": [
    {
     "data": {
      "image/png": "[encoded data removed]",
      "text/plain": [
       "<Figure size 432x288 with 1 Axes>"
      ]
     },
     "metadata": {},
     "output_type": "display_data"
    },
    {
     "data": {
      "image/png": "[encoded data removed]",
      "text/plain": [
       "<Figure size 432x288 with 1 Axes>"
      ]
     },
     "metadata": {},
     "output_type": "display_data"
    }
   ],
   "source": [
    "V = initialize(max_reward = 10e10)\n",
    "V = value_iteration(V, pheads = 0.25, sigma = 10e-20, gamma = 1)\n",
    "pi = retrieve_policy(V, pheads = 0.25, gamma = 1)\n",
    "\n",
    "plt.plot(V/max(V))\n",
    "plt.xlabel('States (Current Money)')\n",
    "plt.ylabel('Value (V(s))')\n",
    "plt.title('State-value function')\n",
    "plt.show()\n",
    "\n",
    "plt.bar(range(100), height = pi)\n",
    "plt.xlabel('States (Current Money)')\n",
    "plt.ylabel('Actions (Bets)')\n",
    "plt.title('Policy Pi')\n",
    "plt.show()"
   ]
  },
  {
   "cell_type": "markdown",
   "metadata": {},
   "source": [
    "In the state-value function we can see how the value of the states improves as we get more money. In fact, as only reward it gets is +1 if the agent wins, the value of each state is the probability of winning from that state and following the policy. In this case we used a reward of 10e10 instead of 1 because we can ensure this way that the rewards are calculated with more decimal points before losing precision, but the idea remains the same. If we didn't the policy would have some errors."
   ]
  },
  {
   "cell_type": "markdown",
   "metadata": {},
   "source": [
    "In the plot about the policy we can see a very corious shape. It's clear that the agent tries to reach quickly certain states and then it plays safe until reaching other peak. For example at 50 it bets it all because of it wins it reaches the desired 100. But if it has only 49 it first tries to bet 1 to try to reach the 50, because if it fails it can continue playing. "
   ]
  },
  {
   "cell_type": "markdown",
   "metadata": {},
   "source": [
    "If we do the same for pheads = 0.55:"
   ]
  },
  {
   "cell_type": "code",
   "execution_count": 7,
   "metadata": {},
   "outputs": [
    {
     "data": {
      "image/png": "[encoded data removed]",
      "text/plain": [
       "<Figure size 432x288 with 1 Axes>"
      ]
     },
     "metadata": {},
     "output_type": "display_data"
    },
    {
     "data": {
      "image/png": "[encoded data removed]",
      "text/plain": [
       "<Figure size 432x288 with 1 Axes>"
      ]
     },
     "metadata": {},
     "output_type": "display_data"
    }
   ],
   "source": [
    "V = initialize(max_reward = 10e10)\n",
    "V = value_iteration(V, pheads = 0.55, sigma = 10e-20, gamma = 1)\n",
    "pi = retrieve_policy(V, pheads = 0.55, gamma = 1)\n",
    "\n",
    "plt.plot(V/max(V))\n",
    "plt.xlabel('States (Current Money)')\n",
    "plt.ylabel('Value (V(s))')\n",
    "plt.title('State-value function')\n",
    "plt.show()\n",
    "\n",
    "plt.bar(range(100), height = pi)\n",
    "plt.xlabel('States (Current Money)')\n",
    "plt.ylabel('Actions (Bets)')\n",
    "plt.title('Policy Pi')\n",
    "plt.show()"
   ]
  },
  {
   "cell_type": "markdown",
   "metadata": {},
   "source": [
    "We can see that because we have at each step more probabilities of winning than losing, we quickly reach a high value score. \n",
    "Furthermore, the policy becomes trivial. We just have to bet 1 all the time. In the long term, this is the safest way of reaching the desired 100 goal."
   ]
  }
 ],
 "metadata": {
  "kernelspec": {
   "display_name": "Python 3",
   "language": "python",
   "name": "python3"
  },
  "language_info": {
   "codemirror_mode": {
    "name": "ipython",
    "version": 3
   },
   "file_extension": ".py",
   "mimetype": "text/x-python",
   "name": "python",
   "nbconvert_exporter": "python",
   "pygments_lexer": "ipython3",
   "version": "3.6.5"
  }
 },
 "nbformat": 4,
 "nbformat_minor": 2
}
